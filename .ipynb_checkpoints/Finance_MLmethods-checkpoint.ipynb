{
 "cells": [
  {
   "cell_type": "markdown",
   "metadata": {},
   "source": [
    "## 资产收益预估统计模型的总体构造\n",
    "\n",
    "\n"
   ]
  },
  {
   "cell_type": "markdown",
   "metadata": {},
   "source": [
    "使用机器学习模型进行资产回报的预估，建立如下的加法模型\n",
    "$$\n",
    "r_{i, t+1} = E_t(r_{i, t+1}) + \\epsilon_{i, t+1} \\tag{1}\n",
    "$$\n",
    "其中$$\n",
    "E_t(r_{i, t+1}) = g^*(z_{i, t+1}) \\tag{2}\n",
    "$$\n",
    "\n",
    "$i = 1, 2, ... N_t$为股票id， $t = 1, 2,...,T$为月份序号。\n",
    "即第i个股票第t+1期的收益为期望收益 + 误差项。\n",
    "\n",
    "模型中的期望函数g是因子$z_{i, t+1}$的函数， 模型对不同的股票i和不同的时间t，估计同一个期望函数g，并保证g在样本集外有最大的预测能力。\n",
    "\n",
    "\n",
    "\n",
    "\n"
   ]
  },
  {
   "cell_type": "markdown",
   "metadata": {},
   "source": [
    "## 样本集合划分和验证"
   ]
  },
  {
   "cell_type": "markdown",
   "metadata": {},
   "source": [
    "1. 训练集\n",
    "2. 验证集\n",
    "3. 测试集"
   ]
  },
  {
   "cell_type": "markdown",
   "metadata": {},
   "source": [
    "## 几种主要的机器学习方法"
   ]
  },
  {
   "cell_type": "markdown",
   "metadata": {},
   "source": [
    "### 简单线性模型"
   ]
  },
  {
   "cell_type": "markdown",
   "metadata": {},
   "source": [
    "线性最小二乘法。对每一个因子引入权重$\\theta_{i, t}$, $\\theta = (\\theta_{i, t})$。\n",
    "\n",
    "$$\n",
    "g(z_{i, t};\\theta) = z^{T}_{i, t} \\theta \\tag{3}\n",
    "$$"
   ]
  },
  {
   "cell_type": "code",
   "execution_count": null,
   "metadata": {},
   "outputs": [],
   "source": []
  }
 ],
 "metadata": {
  "kernelspec": {
   "display_name": "tfenv",
   "language": "python",
   "name": "tfenv"
  },
  "language_info": {
   "codemirror_mode": {
    "name": "ipython",
    "version": 3
   },
   "file_extension": ".py",
   "mimetype": "text/x-python",
   "name": "python",
   "nbconvert_exporter": "python",
   "pygments_lexer": "ipython3",
   "version": "3.6.7"
  }
 },
 "nbformat": 4,
 "nbformat_minor": 2
}
