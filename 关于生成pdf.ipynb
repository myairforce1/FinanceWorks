{
 "cells": [
  {
   "cell_type": "markdown",
   "metadata": {},
   "source": [
    "\n",
    "## jupyter notebook转pdf时支持中文的方法：\n",
    "\n",
    "\n",
    "### 将ipynb编译为tex\n",
    "\n",
    "ipython nbconvert --to latex Example.ipynb\n",
    "\n",
    "\n",
    "注意，由于修改了nbconvert这个package的latex template，所以要使用nbconvert所属的ipython环境。注意切换anaconda！\n",
    "\n",
    "\n",
    "### 编译tex，生成pdf\n",
    "\n",
    "\n",
    "xelatex Example.tex\n",
    "\n",
    "\n",
    "\n",
    "\n",
    "\n",
    "修改当前环境下的 article.tplx\n",
    "# @article.tplx\n",
    "add\n",
    "\\usepackage{xeCJK}\n",
    "\\setCJKmainfont{Microsoft YaHei}  # match font name\n",
    "after\n",
    "\\documentclass[11pt]{article}\n",
    "\n",
    "这种方式不能自动换行，推荐选择另一种方法——直接修改tex模版文件\n",
    "\n",
    "用文本编辑器打开article.tplx （\\Python27\\Lib\\site-packages\\nbconvert\\templates\\latex\\），修改为\\documentclass{ctexart}。\n"
   ]
  },
  {
   "cell_type": "code",
   "execution_count": null,
   "metadata": {},
   "outputs": [],
   "source": []
  }
 ],
 "metadata": {
  "kernelspec": {
   "display_name": "tfenv",
   "language": "python",
   "name": "tfenv"
  },
  "language_info": {
   "codemirror_mode": {
    "name": "ipython",
    "version": 3
   },
   "file_extension": ".py",
   "mimetype": "text/x-python",
   "name": "python",
   "nbconvert_exporter": "python",
   "pygments_lexer": "ipython3",
   "version": "3.6.7"
  }
 },
 "nbformat": 4,
 "nbformat_minor": 2
}
